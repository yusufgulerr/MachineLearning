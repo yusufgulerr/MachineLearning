{
 "cells": [
  {
   "cell_type": "code",
   "execution_count": 1,
   "id": "1dfe0e28",
   "metadata": {
    "_cell_guid": "b1076dfc-b9ad-4769-8c92-a6c4dae69d19",
    "_uuid": "8f2839f25d086af736a60e9eeb907d3b93b6e0e5",
    "execution": {
     "iopub.execute_input": "2023-03-17T13:15:52.207526Z",
     "iopub.status.busy": "2023-03-17T13:15:52.206254Z",
     "iopub.status.idle": "2023-03-17T13:15:52.222016Z",
     "shell.execute_reply": "2023-03-17T13:15:52.220071Z"
    },
    "papermill": {
     "duration": 0.023794,
     "end_time": "2023-03-17T13:15:52.225530",
     "exception": false,
     "start_time": "2023-03-17T13:15:52.201736",
     "status": "completed"
    },
    "tags": []
   },
   "outputs": [
    {
     "name": "stdout",
     "output_type": "stream",
     "text": [
      "1\n",
      "2\n",
      "3\n",
      "4\n",
      "5\n",
      "1\n",
      "2\n",
      "3\n",
      "4\n",
      "5\n"
     ]
    }
   ],
   "source": [
    "# This Python 3 environment comes with many helpful analytics libraries installed\n",
    "# It is defined by the kaggle/python Docker image: https://github.com/kaggle/docker-python\n",
    "# For example, here's several helpful packages to load\n",
    "\n",
    "import numpy as np # linear algebra\n",
    "import pandas as pd # data processing, CSV file I/O (e.g. pd.read_csv)\n",
    "x = 5\n",
    "y = \"Hello World\"\n",
    "my_list = [1, 2, 3, 4, 5]\n",
    "\n",
    "for i in my_list:\n",
    "    print(i)\n",
    "    my_list = [1, 2, 3, 4, 5]\n",
    "\n",
    "for i in my_list:\n",
    "    print(i)\n",
    "    my_list = [1, 2, 3, 4, 5]\n",
    "\n",
    "my_list.append(6) # Listenin sonuna 6 ekler\n",
    "my_list = [1, 2, 3, 4, 5]\n",
    "\n",
    "my_list.insert(2, \"a\") # 2. indekse \"a\" ekler\n",
    "my_list = [1, 2, 3, 4, 5]\n",
    "\n",
    "my_list.remove(3) # 3 elemanını siler"
   ]
  }
 ],
 "metadata": {
  "kernelspec": {
   "display_name": "Python 3",
   "language": "python",
   "name": "python3"
  },
  "language_info": {
   "codemirror_mode": {
    "name": "ipython",
    "version": 3
   },
   "file_extension": ".py",
   "mimetype": "text/x-python",
   "name": "python",
   "nbconvert_exporter": "python",
   "pygments_lexer": "ipython3",
   "version": "3.7.12"
  },
  "papermill": {
   "default_parameters": {},
   "duration": 13.337115,
   "end_time": "2023-03-17T13:15:53.055686",
   "environment_variables": {},
   "exception": null,
   "input_path": "__notebook__.ipynb",
   "output_path": "__notebook__.ipynb",
   "parameters": {},
   "start_time": "2023-03-17T13:15:39.718571",
   "version": "2.4.0"
  }
 },
 "nbformat": 4,
 "nbformat_minor": 5
}
